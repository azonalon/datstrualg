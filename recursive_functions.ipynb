{
 "cells": [
  {
   "cell_type": "code",
   "execution_count": 6,
   "metadata": {
    "collapsed": false
   },
   "outputs": [
    {
     "name": "stdout",
     "output_type": "stream",
     "text": [
      "Pascal Triangle:\n",
      "                   1                    \n",
      "                  1 1                   \n",
      "                 1 2 1                  \n",
      "                1 3 3 1                 \n",
      "               1 4 6 4 1                \n",
      "             1 5 10 10 5 1              \n",
      "           1 6 15 20 15 6 1             \n",
      "          1 7 21 35 35 21 7 1           \n",
      "        1 8 28 56 70 56 28 8 1          \n",
      "      1 9 36 84 126 126 84 36 9 1       \n"
     ]
    }
   ],
   "source": [
    "def Binomial(n,k):\n",
    "    if k == 0 or n == k:\n",
    "        return 1\n",
    "    elif n<k:\n",
    "        raise Exception('First argument must be bigger than second')\n",
    "    else:\n",
    "        return Binomial(n-1, k-1) + Binomial(n-1, k)\n",
    "    \n",
    "print('Pascal Triangle:')\n",
    "for n in range(0,10):\n",
    "    line=''\n",
    "    for j in range(0,n+1):\n",
    "        line += str(Binomial(n,j))+' '\n",
    "    print(line.center(40))\n"
   ]
  },
  {
   "cell_type": "code",
   "execution_count": 4,
   "metadata": {
    "collapsed": false
   },
   "outputs": [
    {
     "name": "stdout",
     "output_type": "stream",
     "text": [
      "[1, 1, 2, 3, 5, 8, 13, 21, 34, 55]\n"
     ]
    }
   ],
   "source": [
    "def Fibonacci(n):\n",
    "    if n == 0:\n",
    "        return 1\n",
    "    elif n == 1:\n",
    "        return 1\n",
    "    elif n <= 0:\n",
    "        raise Exception('Number must be positive')\n",
    "    else:\n",
    "        return Fibonacci(n-1)+Fibonacci(n-2)\n",
    "    \n",
    "print([Fibonacci(n) for n in range(0,10)])"
   ]
  },
  {
   "cell_type": "code",
   "execution_count": 5,
   "metadata": {
    "collapsed": false
   },
   "outputs": [
    {
     "name": "stdout",
     "output_type": "stream",
     "text": [
      "120\n"
     ]
    }
   ],
   "source": [
    "def Factorial(n):\n",
    "    if n == 0:\n",
    "        return 1\n",
    "    return n*Factorial(n-1)\n",
    "\n",
    "print(Factorial(5))"
   ]
  },
  {
   "cell_type": "code",
   "execution_count": null,
   "metadata": {
    "collapsed": true
   },
   "outputs": [],
   "source": []
  }
 ],
 "metadata": {
  "kernelspec": {
   "display_name": "Python 3",
   "language": "python",
   "name": "python3"
  },
  "language_info": {
   "codemirror_mode": {
    "name": "ipython",
    "version": 3
   },
   "file_extension": ".py",
   "mimetype": "text/x-python",
   "name": "python",
   "nbconvert_exporter": "python",
   "pygments_lexer": "ipython3",
   "version": "3.5.0"
  }
 },
 "nbformat": 4,
 "nbformat_minor": 0
}
